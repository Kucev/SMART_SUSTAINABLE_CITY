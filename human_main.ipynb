{
 "cells": [
  {
   "cell_type": "code",
   "execution_count": 1,
   "metadata": {},
   "outputs": [],
   "source": [
    "import sys\n",
    "sys.path.insert(0,'data')\n",
    "\n",
    "import config\n",
    "import utils\n",
    "import utils_db\n",
    "import dialogs\n",
    "import vk_api\n",
    "from vk_api.longpoll import VkLongPoll\n",
    "import time\n",
    "\n",
    "\n",
    "import logging\n",
    "logger = logging.getLogger('exception');handler=logging.FileHandler('logs/exception_main.log',encoding = \"UTF-8\")\n",
    "formatter = logging.Formatter('------------\\n %(asctime)s - %(name)s - %(levelname)s - %(message)s')\n",
    "handler.setFormatter(formatter); logger.addHandler(handler)\n",
    "\n",
    "vk_session = vk_api.VkApi(token=config.TOKEN_VK)\n",
    "vk = vk_session.get_api()\n",
    "longpoll = VkLongPoll(vk_session) "
   ]
  },
  {
   "cell_type": "code",
   "execution_count": null,
   "metadata": {},
   "outputs": [],
   "source": [
    "#while True:\n",
    "    #try:\n",
    "for event in longpoll.listen():\n",
    "    #try:\n",
    "    if utils.msg_to_bot(event):\n",
    "        url_img = utils.get_url_img_from_attachments(event)\n",
    "        if not utils_db.user_id_in_db(event.user_id):\n",
    "            utils_db.add_user_in_db(event.user_id)\n",
    "            if not url_img:\n",
    "                utils.send_start_msg(event.user_id)\n",
    "        if utils_db.review_is_now_being_written(event.user_id):\n",
    "            utils.send_msg(event.user_id,\"Нейронная сеть уже обрабатывает изображение! Подожди еще чуть-чуть.\")\n",
    "            continue\n",
    "        if url_img:\n",
    "            utils.image_processing(event.user_id,url_img)\n",
    "            continue\n",
    "        else:\n",
    "            utils.send_msg(event.user_id,dialogs.info())\n",
    "            #except KeyboardInterrupt:\n",
    "            #    pass\n",
    "            #except Exception as e:\n",
    "            #    if not (type(e) == vk_api.exceptions.ApiError and e.code == 901):\n",
    "            #        logger.exception(\"error main_h\") #any error except user blocked us or KeyboardInterrupt\n",
    "            #        utils.send_me_error(\"error main_h \", e)\n",
    "    #except KeyboardInterrupt:\n",
    "    #    pass\n",
    "    #except Exception as e:\n",
    "    #    logger.exception(\"!!!error main longpoll_h \")\n",
    "    #    utils.send_me_error(\"!!!error main longpoll_h \", e)\n",
    "    #    time.sleep(10)"
   ]
  },
  {
   "cell_type": "code",
   "execution_count": null,
   "metadata": {},
   "outputs": [],
   "source": []
  }
 ],
 "metadata": {
  "kernelspec": {
   "display_name": "Python 3",
   "language": "python",
   "name": "python3"
  },
  "language_info": {
   "codemirror_mode": {
    "name": "ipython",
    "version": 3
   },
   "file_extension": ".py",
   "mimetype": "text/x-python",
   "name": "python",
   "nbconvert_exporter": "python",
   "pygments_lexer": "ipython3",
   "version": "3.6.3"
  }
 },
 "nbformat": 4,
 "nbformat_minor": 2
}
