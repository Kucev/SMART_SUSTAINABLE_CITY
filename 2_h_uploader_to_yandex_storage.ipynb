{
 "cells": [
  {
   "cell_type": "code",
   "execution_count": 1,
   "metadata": {},
   "outputs": [],
   "source": [
    "import sys\n",
    "sys.path.insert(0,'data')\n",
    "\n",
    "import config\n",
    "import utils_db\n",
    "import utils\n",
    "import utils_storage\n",
    "import multiprocessing,time\n",
    "def upload_img_to_yandex_storage(i):\n",
    "    url_storage = utils_storage.load_image_on_yandex_storage(name = i['image_id'],img_url = i['url_vk'])\n",
    "    utils_db.add_url_storage_in_db(image_id = i['image_id'],url_storage = url_storage)\n",
    "    \n",
    "import logging\n",
    "logger = logging.getLogger('vk_exception_h')\n",
    "handler = logging.FileHandler('logs/uploader_to_yandex_storage_h.log',encoding = \"UTF-8\")\n",
    "formatter = logging.Formatter('------------\\n %(asctime)s - %(name)s - %(levelname)s - %(message)s')\n",
    "handler.setFormatter(formatter); logger.addHandler(handler)"
   ]
  },
  {
   "cell_type": "code",
   "execution_count": null,
   "metadata": {},
   "outputs": [],
   "source": [
    "while True:\n",
    "    try:\n",
    "        st = time.time()\n",
    "        #select img whith status 0\n",
    "        img_to_upload = utils_db.select_img_to_yandex_storage_upload()\n",
    "        #paralel download to yandex storage\n",
    "        if len(img_to_upload) > 0:\n",
    "            pool = multiprocessing.Pool(processes=min(10,len(img_to_upload)))\n",
    "            pool.map(upload_img_to_yandex_storage, img_to_upload)\n",
    "            pool.close()\n",
    "        time.sleep(max(2 - (time.time()-st),0))\n",
    "    except KeyboardInterrupt:\n",
    "        break\n",
    "    except Exception as e:\n",
    "        logger.exception(\"error uploader_to_yandex_storage_h \")\n",
    "        utils.send_me_error(\"error uploader_to_yandex_storage_h \", e)"
   ]
  },
  {
   "cell_type": "code",
   "execution_count": null,
   "metadata": {},
   "outputs": [],
   "source": []
  }
 ],
 "metadata": {
  "kernelspec": {
   "display_name": "Python 3",
   "language": "python",
   "name": "python3"
  },
  "language_info": {
   "codemirror_mode": {
    "name": "ipython",
    "version": 3
   },
   "file_extension": ".py",
   "mimetype": "text/x-python",
   "name": "python",
   "nbconvert_exporter": "python",
   "pygments_lexer": "ipython3",
   "version": "3.6.3"
  }
 },
 "nbformat": 4,
 "nbformat_minor": 2
}
