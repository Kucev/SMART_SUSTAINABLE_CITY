{
 "cells": [
  {
   "cell_type": "code",
   "execution_count": 1,
   "metadata": {},
   "outputs": [],
   "source": [
    "import sys\n",
    "sys.path.insert(0,'data')\n",
    "import requests\n",
    "\n",
    "import utils_db\n",
    "import utils\n",
    "import dialogs\n",
    "import utils_toloka\n",
    "import time\n",
    "import vk_api\n",
    "import config\n",
    "import numpy as np\n",
    "import pandas as pd\n",
    "\n",
    "import logging\n",
    "logger = logging.getLogger('toloka_loader')\n",
    "handler = logging.FileHandler('logs/toloka_loader.log',encoding = \"UTF-8\")\n",
    "formatter = logging.Formatter('------------\\n %(asctime)s - %(name)s - %(levelname)s - %(message)s')\n",
    "handler.setFormatter(formatter); logger.addHandler(handler)\n",
    "\n",
    "dic = {'hot':'счетчик горячей воды','cold':'счетчик холодной воды',\n",
    "       'electricity':'счетчик электроэнергии','gas':'счетчик газа','other':'определить не удалось'}\n",
    "\n",
    "def add_new_img_to_toloka(new_images):\n",
    "    result_post_request = requests.post(url = utils_toloka.url_create_tasks,headers = utils_toloka.headers,\n",
    "                                        json = utils_toloka.create_json_for_tasks(new_images))\n",
    "    for task in result_post_request.json()['items'].values():\n",
    "        image_id = int(task['input_values']['image'][:-4].split('/')[-1])\n",
    "        utils_db.add_toloka_task_id_in_db(image_id,task['id'])"
   ]
  },
  {
   "cell_type": "code",
   "execution_count": 2,
   "metadata": {},
   "outputs": [],
   "source": [
    "def check_reviewing_images(reviewing_images):\n",
    "    for reviewing_img in reviewing_images:\n",
    "        try:\n",
    "            result_get_request = requests.get(url=utils_toloka.url_task_execution_check(\n",
    "                    reviewing_img['id_toloka_task']),headers = utils_toloka.headers).json()\n",
    "            if len(result_get_request['items']) >= 3:\n",
    "                type_list = list(map(lambda t : t['solutions']\n",
    "                                     [np.where(np.array(list(map(lambda x: x['id'],t['tasks']))) \n",
    "                                    == reviewing_img['id_toloka_task'])[0][0]]\n",
    "                                     ['output_values']['type'],result_get_request['items']))\n",
    "                type_res = pd.Series(type_list).value_counts().index[0]\n",
    "                result_list = list(map(lambda t : t['solutions'][\n",
    "                                    np.where(np.array(list(map(lambda x: x['id'],t['tasks']))) \n",
    "                                   == reviewing_img['id_toloka_task'])[0][0]]\n",
    "                                       ['output_values']['result'],result_get_request['items']))\n",
    "                result_res = pd.Series(result_list).value_counts().index[0]\n",
    "                meters_list = list(map(lambda t : t['solutions']\n",
    "                                       [np.where(np.array(list(map(lambda x: x['id'],t['tasks']))) \n",
    "                                    == reviewing_img['id_toloka_task'])[0][0]]\n",
    "                                       ['output_values']['meters_data'],result_get_request['items']))\n",
    "                meters_res = pd.Series(meters_list).value_counts().index[0]\n",
    "                print(type_res,result_res,meters_res)\n",
    "                utils_db.add_review_in_db(reviewing_img['image_id'],str([type_res,result_res,meters_res]))\n",
    "                if result_res == 'no':\n",
    "                    mesg = 'На изображении счетчик не обнаружен.'\n",
    "                elif result_res == 'some':\n",
    "                    mesg = 'На изображении несколько счетчиков. Пришли изображение только с одним счетчиком.'\n",
    "                elif result_res == 'bad':\n",
    "                    mesg = 'Изображение плохого качества. Не удается распознать показания счетчиков.'\n",
    "                elif result_res == 'good':\n",
    "                    mesg = 'Тип: %s.\\nПоказания: %g' %(dic[type_res],meters_res)\n",
    "                print(mesg)\n",
    "                utils.send_msg(reviewing_img['user_id'],mesg)\n",
    "        except Exception as e:\n",
    "            if type(e) == vk_api.exceptions.ApiError and e.code == 901:\n",
    "                #user blocked us\n",
    "                pass\n",
    "            else:\n",
    "                logger.exception(\"error toloka_loader_hh \")\n",
    "                utils.send_me_error(\"error toloka_loader_hh \", e)"
   ]
  },
  {
   "cell_type": "code",
   "execution_count": null,
   "metadata": {},
   "outputs": [
    {
     "name": "stdout",
     "output_type": "stream",
     "text": [
      "electricity good 0.29\n",
      "Тип: счетчик электроэнергии.\n",
      "Показания: 0.29\n"
     ]
    }
   ],
   "source": [
    "while True:\n",
    "    try:\n",
    "        st = time.time()\n",
    "        new_images = utils_db.select_new_img_to_toloka()\n",
    "        if len(new_images) > 0:\n",
    "            add_new_img_to_toloka(new_images)\n",
    "        reviewing_images = utils_db.select_reviewing_images()\n",
    "        if len(reviewing_images) > 0:\n",
    "            check_reviewing_images(reviewing_images)\n",
    "        time.sleep(max(2 - (time.time()-st),0))\n",
    "    except KeyboardInterrupt:\n",
    "        break\n",
    "    except Exception as e:\n",
    "        logger.exception(\"error toloka_loader \")\n",
    "        utils.send_me_error(\"error toloka_loader \", e)"
   ]
  },
  {
   "cell_type": "code",
   "execution_count": null,
   "metadata": {},
   "outputs": [],
   "source": []
  }
 ],
 "metadata": {
  "kernelspec": {
   "display_name": "Python 3",
   "language": "python",
   "name": "python3"
  },
  "language_info": {
   "codemirror_mode": {
    "name": "ipython",
    "version": 3
   },
   "file_extension": ".py",
   "mimetype": "text/x-python",
   "name": "python",
   "nbconvert_exporter": "python",
   "pygments_lexer": "ipython3",
   "version": "3.6.3"
  }
 },
 "nbformat": 4,
 "nbformat_minor": 2
}
