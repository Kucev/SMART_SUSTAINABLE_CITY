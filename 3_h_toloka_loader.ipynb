{
 "cells": [
  {
   "cell_type": "code",
   "execution_count": 1,
   "metadata": {},
   "outputs": [],
   "source": [
    "import sys\n",
    "sys.path.insert(0,'data')\n",
    "import requests\n",
    "\n",
    "import utils_db\n",
    "import utils\n",
    "import dialogs\n",
    "import utils_toloka\n",
    "import time\n",
    "import vk_api\n",
    "import config\n",
    "\n",
    "import logging\n",
    "logger = logging.getLogger('toloka_loader')\n",
    "handler = logging.FileHandler('logs/toloka_loader.log',encoding = \"UTF-8\")\n",
    "formatter = logging.Formatter('------------\\n %(asctime)s - %(name)s - %(levelname)s - %(message)s')\n",
    "handler.setFormatter(formatter); logger.addHandler(handler)"
   ]
  },
  {
   "cell_type": "code",
   "execution_count": 3,
   "metadata": {},
   "outputs": [],
   "source": [
    "new_images = utils_db.select_new_img_to_toloka()"
   ]
  },
  {
   "cell_type": "code",
   "execution_count": null,
   "metadata": {},
   "outputs": [],
   "source": [
    "def add_new_img_to_toloka(new_images):\n",
    "    result_post_request = requests.post(url = utils_toloka.url_create_tasks,headers = utils_toloka.headers,\n",
    "                                        json = utils_toloka.create_json_for_tasks(new_images))\n",
    "    for task in result_post_request.json()['items'].values():\n",
    "        image_id = int(task['input_values']['image'][:-4].split('/')[-1])\n",
    "        utils_db.add_toloka_task_id_in_db(image_id,task['id'])"
   ]
  },
  {
   "cell_type": "code",
   "execution_count": null,
   "metadata": {},
   "outputs": [],
   "source": []
  },
  {
   "cell_type": "code",
   "execution_count": null,
   "metadata": {},
   "outputs": [],
   "source": []
  },
  {
   "cell_type": "code",
   "execution_count": null,
   "metadata": {},
   "outputs": [],
   "source": [
    "while True:\n",
    "    try:\n",
    "        st = time.time()\n",
    "        new_images = utils_db.select_new_img_to_toloka()\n",
    "        if len(new_images) > 0:\n",
    "            add_new_img_to_toloka(new_images)\n",
    "        reviewing_images = utils_db.select_reviewing_images()\n",
    "        if len(reviewing_images) > 0:\n",
    "            check_reviewing_images(reviewing_images)\n",
    "        time.sleep(max(2 - (time.time()-st),0))\n",
    "    except KeyboardInterrupt:\n",
    "        break\n",
    "    except Exception as e:\n",
    "        logger.exception(\"error toloka_loader \")\n",
    "        utils.send_me_error(\"error toloka_loader \", e)"
   ]
  }
 ],
 "metadata": {
  "kernelspec": {
   "display_name": "Python 3",
   "language": "python",
   "name": "python3"
  },
  "language_info": {
   "codemirror_mode": {
    "name": "ipython",
    "version": 3
   },
   "file_extension": ".py",
   "mimetype": "text/x-python",
   "name": "python",
   "nbconvert_exporter": "python",
   "pygments_lexer": "ipython3",
   "version": "3.6.3"
  }
 },
 "nbformat": 4,
 "nbformat_minor": 2
}
